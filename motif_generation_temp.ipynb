{
 "cells": [
  {
   "cell_type": "code",
   "execution_count": 1,
   "metadata": {},
   "outputs": [],
   "source": [
    "from collections import defaultdict\n",
    "import numpy as np\n",
    "from itertools import product\n",
    "from scipy.special import gamma\n",
    "from scipy.spatial.distance import pdist, squareform, euclidean\n",
    "import pandas as pd\n",
    "import seaborn as sns\n",
    "import matplotlib.pyplot as plt\n",
    "from random import randint\n",
    "from sklearn.linear_model import LinearRegression\n",
    "import math\n",
    "from functions_for_clustering import *"
   ]
  },
  {
   "cell_type": "code",
   "execution_count": 21,
   "metadata": {
    "scrolled": true
   },
   "outputs": [
    {
     "name": "stderr",
     "output_type": "stream",
     "text": [
      "C:\\Users\\ivano\\github_projects\\BorovTech_TimeSeriesClustering\\functions_for_clustering.py:89: RuntimeWarning: divide by zero encountered in double_scalars\n",
      "  p = [k / (volume(dk[i], m) * n) for i in range(n)]\n",
      "C:\\Users\\ivano\\github_projects\\BorovTech_TimeSeriesClustering\\functions_for_clustering.py:18: RuntimeWarning: invalid value encountered in double_scalars\n",
      "  max_diff = max(abs(p[i] - p[j]) for i, j in product(cluster, cluster))\n"
     ]
    },
    {
     "name": "stdout",
     "output_type": "stream",
     "text": [
      "motif_14 [ 0.10041317  0.04147708 -0.01745902  0.00464202 -0.06166109 -0.00272499\n",
      " -0.09112914  0.04147708  0.04147708 -0.03219304  0.0562111   0.07094513\n",
      "  0.07831214 -0.00272499 -0.03956005]\n"
     ]
    },
    {
     "name": "stderr",
     "output_type": "stream",
     "text": [
      "C:\\Users\\ivano\\github_projects\\BorovTech_TimeSeriesClustering\\functions_for_clustering.py:89: RuntimeWarning: divide by zero encountered in double_scalars\n",
      "  p = [k / (volume(dk[i], m) * n) for i in range(n)]\n",
      "C:\\Users\\ivano\\github_projects\\BorovTech_TimeSeriesClustering\\functions_for_clustering.py:18: RuntimeWarning: invalid value encountered in double_scalars\n",
      "  max_diff = max(abs(p[i] - p[j]) for i, j in product(cluster, cluster))\n"
     ]
    },
    {
     "name": "stdout",
     "output_type": "stream",
     "text": [
      "motif_14 [ 0.00021643 -0.00800323  0.00021643  0.00843608  0.01665574  0.04953437\n",
      "  0.04953437  0.03309505  0.01665574  0.00843608  0.01665574  0.00843608\n",
      "  0.00843608  0.00021643 -0.00800323]\n"
     ]
    },
    {
     "name": "stderr",
     "output_type": "stream",
     "text": [
      "C:\\Users\\ivano\\github_projects\\BorovTech_TimeSeriesClustering\\functions_for_clustering.py:89: RuntimeWarning: divide by zero encountered in double_scalars\n",
      "  p = [k / (volume(dk[i], m) * n) for i in range(n)]\n",
      "C:\\Users\\ivano\\github_projects\\BorovTech_TimeSeriesClustering\\functions_for_clustering.py:18: RuntimeWarning: invalid value encountered in double_scalars\n",
      "  max_diff = max(abs(p[i] - p[j]) for i, j in product(cluster, cluster))\n"
     ]
    },
    {
     "name": "stdout",
     "output_type": "stream",
     "text": [
      "motif_14 [ 0.01162491 -0.06525744  0.00064172 -0.08722383  0.01711651  0.02260811\n",
      "  0.01711651  0.00613332  0.01162491  0.00064172  0.0390829  -0.03230786\n",
      "  0.00064172 -0.05976584 -0.02681626]\n"
     ]
    },
    {
     "name": "stderr",
     "output_type": "stream",
     "text": [
      "C:\\Users\\ivano\\github_projects\\BorovTech_TimeSeriesClustering\\functions_for_clustering.py:89: RuntimeWarning: divide by zero encountered in double_scalars\n",
      "  p = [k / (volume(dk[i], m) * n) for i in range(n)]\n",
      "C:\\Users\\ivano\\github_projects\\BorovTech_TimeSeriesClustering\\functions_for_clustering.py:18: RuntimeWarning: invalid value encountered in double_scalars\n",
      "  max_diff = max(abs(p[i] - p[j]) for i, j in product(cluster, cluster))\n"
     ]
    },
    {
     "name": "stdout",
     "output_type": "stream",
     "text": [
      "motif_14 [ 6.53478989e-03  3.26380788e-02 -2.60943212e-02  1.95864343e-02\n",
      " -7.17750767e-02  8.96767091e-06 -6.52492545e-02  2.61122566e-02\n",
      "  5.87413676e-02 -1.95684990e-02  3.91639010e-02  3.91639010e-02\n",
      "  5.87413676e-02 -3.26201434e-02 -1.95684990e-02]\n"
     ]
    },
    {
     "name": "stderr",
     "output_type": "stream",
     "text": [
      "C:\\Users\\ivano\\github_projects\\BorovTech_TimeSeriesClustering\\functions_for_clustering.py:89: RuntimeWarning: divide by zero encountered in double_scalars\n",
      "  p = [k / (volume(dk[i], m) * n) for i in range(n)]\n",
      "C:\\Users\\ivano\\github_projects\\BorovTech_TimeSeriesClustering\\functions_for_clustering.py:18: RuntimeWarning: invalid value encountered in double_scalars\n",
      "  max_diff = max(abs(p[i] - p[j]) for i, j in product(cluster, cluster))\n"
     ]
    },
    {
     "name": "stdout",
     "output_type": "stream",
     "text": [
      "motif_14 [-0.02673662  0.00093552  0.01015957  0.04705576  0.01938362  0.00093552\n",
      "  0.01938362  0.00093552  0.00093552  0.01015957  0.00093552 -0.03596067\n",
      "  0.00093552  0.04705576  0.01015957]\n"
     ]
    },
    {
     "name": "stderr",
     "output_type": "stream",
     "text": [
      "C:\\Users\\ivano\\github_projects\\BorovTech_TimeSeriesClustering\\functions_for_clustering.py:89: RuntimeWarning: divide by zero encountered in double_scalars\n",
      "  p = [k / (volume(dk[i], m) * n) for i in range(n)]\n",
      "C:\\Users\\ivano\\github_projects\\BorovTech_TimeSeriesClustering\\functions_for_clustering.py:18: RuntimeWarning: invalid value encountered in double_scalars\n",
      "  max_diff = max(abs(p[i] - p[j]) for i, j in product(cluster, cluster))\n"
     ]
    },
    {
     "name": "stdout",
     "output_type": "stream",
     "text": [
      "motif_14 [-0.00708432 -0.00708432  0.01598145  0.01021501  0.01598145  0.05634655\n",
      "  0.01021501  0.01021501  0.05634655  0.06211299  0.01021501  0.01598145\n",
      " -0.00708432 -0.04168297 -0.04168297]\n"
     ]
    }
   ],
   "source": [
    "for legend in range(6):\n",
    "    df = pd.read_csv('data/test/part_%s.csv' % str(legend))\n",
    "\n",
    "\n",
    "    #extracting data\n",
    "    df_temp = df.drop(labels=['Ticker', 'index', 'Date', 'extremum'], axis=1)\n",
    "    key1 = -15\n",
    "    key2 = min([int(x) for x in df_temp.columns])\n",
    "    df_temp = df_temp.drop(labels=[str(x) for x in list(range(key2,key1))], axis=1)\n",
    "    df_temp = df_temp.loc[df_temp.index < 4000]\n",
    "    df_temp = df_temp.dropna(axis=0)\n",
    "    clustering_data_trended = df_temp.values.tolist()\n",
    "    clustering_data = detrend(clustering_data_trended)\n",
    "\n",
    "\n",
    "    #creating z-functions for everything\n",
    "    from functions_for_clustering import *\n",
    "    clustering_data_z_optimized = []\n",
    "    for i in clustering_data:\n",
    "        clustering_data_z_optimized.append(generate_z_vector_best(i,(key1//-3)))\n",
    "    len(clustering_data_z_optimized)\n",
    "\n",
    "\n",
    "    clustering_result = get_clustering(clustering_data_z_optimized, 2, 1)\n",
    "\n",
    "\n",
    "    visualization_data = []\n",
    "    for i in range(len(clustering_result)):\n",
    "        if clustering_result[i] == max(set(clustering_result), key=list(clustering_result).count):\n",
    "            visualization_data.append(clustering_data[i])\n",
    "\n",
    "    sns.set(rc={'figure.figsize':(20,7)})\n",
    "    neighborhood = []\n",
    "    visualization_index = list(range(len(clustering_data[0])))\n",
    "    visualization_data_flat = np.array(visualization_data).flatten()\n",
    "    visualization_index_flat = np.array(list(range(len(clustering_data[0])))*len(visualization_data)).flatten()\n",
    "    for i in visualization_index:\n",
    "        neighborhood.append(find_boundaries(visualization_data, visualization_data_flat, i))\n",
    "    neighborhood = np.transpose(neighborhood)\n",
    "    motif2 = [(neighborhood[0][x]+neighborhood[1][x])/2 for x in list(range(len(neighborhood[1])))]\n",
    "    f = open('motif_%s.txt' % str(legend), 'w')\n",
    "    f.write(' '.join(str(x) for x in neighborhood[1]))\n",
    "    f.write('\\n')\n",
    "    f.write(' '.join(str(x) for x in motif2))\n",
    "    f.write('\\n')\n",
    "    f.write(' '.join(str(x) for x in neighborhood[0]))\n",
    "    f.close()\n",
    "    print('motif_%s' % str(i), neighborhood[1])\n",
    "\n"
   ]
  },
  {
   "cell_type": "code",
   "execution_count": null,
   "metadata": {},
   "outputs": [],
   "source": [
    "\n",
    "sns.lineplot(y=neighborhood[0], x=visualization_index)\n",
    "sns.lineplot(y=neighborhood[1], x=visualization_index)\n",
    "sns.lineplot(y=motif2, x=visualization_index)"
   ]
  },
  {
   "cell_type": "code",
   "execution_count": 19,
   "metadata": {
    "scrolled": true
   },
   "outputs": [],
   "source": [
    "f = open('motif_1', 'w')\n",
    "f.write(' '.join(str(x) for x in neighborhood[1]))\n",
    "f.write('\\n')\n",
    "f.write(' '.join(str(x) for x in motif2))\n",
    "f.write('\\n')\n",
    "f.write(' '.join(str(x) for x in neighborhood[0]))\n",
    "f.close()"
   ]
  },
  {
   "cell_type": "code",
   "execution_count": 17,
   "metadata": {},
   "outputs": [],
   "source": [
    "f = open('motif_1', 'w')\n",
    "f.write('qwe')\n",
    "f.close()"
   ]
  },
  {
   "cell_type": "code",
   "execution_count": 11,
   "metadata": {},
   "outputs": [
    {
     "data": {
      "text/plain": [
       "'0.10041317286857299 0.041477077370002946 -0.017459018128567094 0.004642017683396671 -0.061661089752494624 -0.002724994253924584 -0.09112913750177964 0.041477077370002946 0.041477077370002946 -0.032193042003209604 0.056211101244645456 0.07094512511928797 0.07831213705660922 -0.002724994253924584 -0.03956005394053086'"
      ]
     },
     "execution_count": 11,
     "metadata": {},
     "output_type": "execute_result"
    }
   ],
   "source": [
    "' '.join(str(x) for x in neighborhood[1])"
   ]
  },
  {
   "cell_type": "code",
   "execution_count": 6,
   "metadata": {
    "scrolled": false
   },
   "outputs": [
    {
     "data": {
      "text/plain": [
       "<AxesSubplot:>"
      ]
     },
     "execution_count": 6,
     "metadata": {},
     "output_type": "execute_result"
    },
    {
     "data": {
      "image/png": "[encoded data removed]",
      "text/plain": [
       "<Figure size 1440x504 with 1 Axes>"
      ]
     },
     "metadata": {},
     "output_type": "display_data"
    }
   ],
   "source": [
    "sns.lineplot(y=neighborhood[0], x=visualization_index)"
   ]
  },
  {
   "cell_type": "code",
   "execution_count": 7,
   "metadata": {
    "scrolled": true
   },
   "outputs": [
    {
     "data": {
      "text/plain": [
       "10848"
      ]
     },
     "execution_count": 7,
     "metadata": {},
     "output_type": "execute_result"
    }
   ],
   "source": [
    "    df = pd.read_csv('data/test/part_0.csv')\n",
    "    #extracting data\n",
    "    df_temp = df.drop(labels=['Ticker', 'index', 'Date', 'extremum'], axis=1)\n",
    "    key1 = -15 #the number of ticks we wish to observe\n",
    "    key2 = min([int(x) for x in df_temp.columns])\n",
    "    df_temp = df_temp.drop(labels=[str(x) for x in list(range(key2,key1))], axis=1) #drop all ticks but those we're observing\n",
    "    df_temp = df_temp.dropna(axis=0) #drop rows with nan\n",
    "    clustering_data_trended = df_temp.values.tolist() #convert resulting data to list\n",
    "    clustering_data = detrend(clustering_data_trended) #detrend resulting data\n",
    "\n",
    "    len(clustering_data)   "
   ]
  },
  {
   "cell_type": "code",
   "execution_count": 18,
   "metadata": {},
   "outputs": [],
   "source": [
    "    #creating z-functions for everything\n",
    "    cdzo = [generate_z_vector_best(x,(key1//-3)) for x in clustering_data] \n",
    "    # cdzo = clustering_data_z_optimized\n",
    "    clustering_result = get_clustering(cdzo, 2, 1)"
   ]
  },
  {
   "cell_type": "code",
   "execution_count": null,
   "metadata": {},
   "outputs": [],
   "source": [
    "\n",
    "\n",
    "    cluster = [] # choosing a cluster\n",
    "    for i in range(len(clustering_result)):\n",
    "        if clustering_result[i] == max(set(clustering_result), key=list(clustering_result).count):\n",
    "            cluster.append(clustering_data[i])\n",
    "\n",
    "    sns.set(rc={'figure.figsize':(20,7)})\n",
    "    cluster_index = list(range(len(clustering_data[0])))\n",
    "    cluster_flat = np.array(cluster).flatten()\n",
    "    #visualization_index_flat = np.array(list(range(len(clustering_data[0])))*len(cluster)).flatten()\n",
    "    \n",
    "\n",
    "    cf_max = max(cluster_flat)\n",
    "    cf_min = min(cluster_flat)\n",
    "    neighborhood = [] # it's a list that will contain pairs of points that will determine the acceptable range of motif\n",
    "    for i in cluster_index:\n",
    "        neighborhood.append(find_boundaries(cluster, cf_max, cf_min, i))\n",
    "    neighborhood = np.transpose(neighborhood)\n",
    "    motif2 = [(neighborhood[0][x]+neighborhood[1][x])/2 for x in list(range(len(neighborhood[1])))]\n",
    "    # motif is determined by the acceptable neighborhood and is basically its center\n",
    "    \n",
    "    \n",
    "    f = open('motif_%s.txt' % str(legend), 'w')\n",
    "    f.write(' '.join(str(x) for x in neighborhood[1]))\n",
    "    f.write('\\n')\n",
    "    f.write(' '.join(str(x) for x in motif2))\n",
    "    f.write('\\n')\n",
    "    f.write(' '.join(str(x) for x in neighborhood[0]))\n",
    "    f.close()\n",
    "    print('motif_%s' % str(i), neighborhood[1])\n"
   ]
  },
  {
   "cell_type": "code",
   "execution_count": 12,
   "metadata": {},
   "outputs": [
    {
     "name": "stderr",
     "output_type": "stream",
     "text": [
      "C:\\Users\\ivano\\github_projects\\BorovTech_TimeSeriesClustering\\functions_for_clustering.py:89: RuntimeWarning: divide by zero encountered in double_scalars\n",
      "  p = [k / (volume(dk[i], m) * n) for i in range(n)]\n",
      "C:\\Users\\ivano\\github_projects\\BorovTech_TimeSeriesClustering\\functions_for_clustering.py:18: RuntimeWarning: invalid value encountered in double_scalars\n",
      "  max_diff = max(abs(p[i] - p[j]) for i, j in product(cluster, cluster))\n"
     ]
    },
    {
     "name": "stdout",
     "output_type": "stream",
     "text": [
      "motifs/motif_0_0.txt [ 0.10041317  0.04884409 -0.01745902  0.00464202 -0.0690281   0.01200903\n",
      " -0.0690281   0.04147708  0.04147708 -0.03219304  0.07094513  0.08567915\n",
      "  0.07094513 -0.00272499 -0.04692707]\n",
      "motifs/motif_0_1.txt [ 0.00917942 -0.07034051 -0.02111389 -0.10063382  0.06219271  0.03568606\n",
      "  0.00539276  0.10763267  0.13413931  0.11141933  0.03947273 -0.02868721\n",
      " -0.0817005  -0.05519386 -0.03247388]\n",
      "motifs/motif_0_2.txt [ 0.00090164 -0.01366639 -0.00274037  0.00090164  0.00818565  0.01546967\n",
      "  0.01182766  0.01911168  0.01546967 -0.00274037 -0.0173084   0.00818565\n",
      " -0.00274037  0.00818565 -0.00638238]\n"
     ]
    },
    {
     "name": "stderr",
     "output_type": "stream",
     "text": [
      "C:\\Users\\ivano\\github_projects\\BorovTech_TimeSeriesClustering\\functions_for_clustering.py:89: RuntimeWarning: divide by zero encountered in double_scalars\n",
      "  p = [k / (volume(dk[i], m) * n) for i in range(n)]\n",
      "C:\\Users\\ivano\\github_projects\\BorovTech_TimeSeriesClustering\\functions_for_clustering.py:18: RuntimeWarning: invalid value encountered in double_scalars\n",
      "  max_diff = max(abs(p[i] - p[j]) for i, j in product(cluster, cluster))\n"
     ]
    },
    {
     "name": "stdout",
     "output_type": "stream",
     "text": [
      "motifs/motif_1_0.txt [ 0.02684407  0.0334662   0.00035555  0.00697768  0.00035555  0.00035555\n",
      " -0.01288871  0.00035555  0.02022194  0.02684407  0.02684407  0.02684407\n",
      "  0.02022194  0.00697768  0.01359981]\n",
      "motifs/motif_1_1.txt [ 0.01331833  0.0260492  -0.00577796  0.0260492  -0.06943229  0.05787636\n",
      " -0.07579772  0.01968377  0.05787636 -0.03760513  0.03878006  0.03241463\n",
      "  0.06424179 -0.03760513 -0.02487426]\n",
      "motifs/motif_1_2.txt [ 0.0652882   0.00349966 -0.01194747  0.01379775 -0.06858697  0.00349966\n",
      " -0.0840341   0.02409584  0.01379775 -0.00679843  0.03439393  0.0652882\n",
      "  0.05499011  0.01379775 -0.04284174]\n"
     ]
    },
    {
     "name": "stderr",
     "output_type": "stream",
     "text": [
      "C:\\Users\\ivano\\github_projects\\BorovTech_TimeSeriesClustering\\functions_for_clustering.py:89: RuntimeWarning: divide by zero encountered in double_scalars\n",
      "  p = [k / (volume(dk[i], m) * n) for i in range(n)]\n",
      "C:\\Users\\ivano\\github_projects\\BorovTech_TimeSeriesClustering\\functions_for_clustering.py:18: RuntimeWarning: invalid value encountered in double_scalars\n",
      "  max_diff = max(abs(p[i] - p[j]) for i, j in product(cluster, cluster))\n"
     ]
    },
    {
     "name": "stdout",
     "output_type": "stream",
     "text": [
      "motifs/motif_2_0.txt [ 0.03351049  0.0153078  -0.02564826  0.01075712 -0.06205364  0.04261183\n",
      " -0.07115499  0.01985847  0.05626385 -0.03019893  0.04261183  0.03806116\n",
      "  0.04716251 -0.03019893 -0.03930028]\n",
      "motifs/motif_2_1.txt [ 0.03397066  0.03962734 -0.02825289  0.01134391 -0.04522294  0.03962734\n",
      " -0.062193    0.03397066  0.0565974  -0.01128283  0.06791077  0.04528403\n",
      "  0.05094071 -0.03390957 -0.05087963]\n",
      "motifs/motif_2_2.txt [ 0.02187506  0.03180015 -0.01782528  0.02187506 -0.06745071  0.06157541\n",
      " -0.06745071  0.02187506  0.06157541 -0.04263799  0.03676269  0.03180015\n",
      "  0.05661286 -0.03271291 -0.01782528]\n"
     ]
    },
    {
     "name": "stderr",
     "output_type": "stream",
     "text": [
      "C:\\Users\\ivano\\github_projects\\BorovTech_TimeSeriesClustering\\functions_for_clustering.py:89: RuntimeWarning: divide by zero encountered in double_scalars\n",
      "  p = [k / (volume(dk[i], m) * n) for i in range(n)]\n",
      "C:\\Users\\ivano\\github_projects\\BorovTech_TimeSeriesClustering\\functions_for_clustering.py:18: RuntimeWarning: invalid value encountered in double_scalars\n",
      "  max_diff = max(abs(p[i] - p[j]) for i, j in product(cluster, cluster))\n"
     ]
    },
    {
     "name": "stdout",
     "output_type": "stream",
     "text": [
      "motifs/motif_3_0.txt [ 0.02672633  0.01684147 -0.02764041  0.01189904 -0.06223744  0.05143849\n",
      " -0.0721223   0.02672633  0.06132335 -0.02764041  0.05143849  0.04155363\n",
      "  0.05143849 -0.03752528 -0.04741014]\n",
      "motifs/motif_3_1.txt [ 0.01930982  0.02990455 -0.00717698  0.03520191 -0.0707453   0.05639135\n",
      " -0.08134002  0.01930982  0.05639135 -0.03366378  0.04579663  0.03520191\n",
      "  0.05639135 -0.03366378 -0.02306906]\n",
      "motifs/motif_3_2.txt [ 0.05124973  0.02890516 -0.02695629  0.01214672 -0.03812857  0.02331901\n",
      " -0.0660593   0.0344913   0.06242202 -0.02695629  0.05124973  0.05124973\n",
      "  0.05124973 -0.03254243 -0.05488701]\n"
     ]
    },
    {
     "name": "stderr",
     "output_type": "stream",
     "text": [
      "C:\\Users\\ivano\\github_projects\\BorovTech_TimeSeriesClustering\\functions_for_clustering.py:89: RuntimeWarning: divide by zero encountered in double_scalars\n",
      "  p = [k / (volume(dk[i], m) * n) for i in range(n)]\n",
      "C:\\Users\\ivano\\github_projects\\BorovTech_TimeSeriesClustering\\functions_for_clustering.py:18: RuntimeWarning: invalid value encountered in double_scalars\n",
      "  max_diff = max(abs(p[i] - p[j]) for i, j in product(cluster, cluster))\n"
     ]
    },
    {
     "name": "stdout",
     "output_type": "stream",
     "text": [
      "motifs/motif_4_0.txt [ 0.06217117  0.02847199 -0.02769332  0.01723893 -0.08385863  0.01723893\n",
      " -0.10070823  0.02847199  0.06217117 -0.02207679  0.03970505  0.05655464\n",
      "  0.06217117 -0.03330985 -0.05577598]\n",
      "motifs/motif_4_1.txt [ 0.01353826  0.02716457 -0.01371437  0.02035141 -0.06821961  0.05782377\n",
      " -0.07843934  0.01694483  0.05101061 -0.04096699  0.0373843   0.03057114\n",
      "  0.05441719 -0.03415383 -0.01712094]\n",
      "motifs/motif_4_2.txt [ 0.02420482  0.0204201  -0.02499661  0.01663537 -0.06284387  0.04691318\n",
      " -0.0817675   0.02420482  0.05826735 -0.02499661  0.05826735  0.03934372\n",
      "  0.0506979  -0.03635079 -0.03635079]\n"
     ]
    },
    {
     "name": "stderr",
     "output_type": "stream",
     "text": [
      "C:\\Users\\ivano\\github_projects\\BorovTech_TimeSeriesClustering\\functions_for_clustering.py:89: RuntimeWarning: divide by zero encountered in double_scalars\n",
      "  p = [k / (volume(dk[i], m) * n) for i in range(n)]\n",
      "C:\\Users\\ivano\\github_projects\\BorovTech_TimeSeriesClustering\\functions_for_clustering.py:18: RuntimeWarning: invalid value encountered in double_scalars\n",
      "  max_diff = max(abs(p[i] - p[j]) for i, j in product(cluster, cluster))\n"
     ]
    },
    {
     "name": "stdout",
     "output_type": "stream",
     "text": [
      "motifs/motif_5_0.txt [ 0.03556613  0.01888967 -0.03113971  0.00638232 -0.05198528  0.04807347\n",
      " -0.07283085  0.03139701  0.06058081 -0.02280148  0.07308816  0.0564117\n",
      "  0.04807347 -0.04781617 -0.03530882]\n",
      "motifs/motif_5_1.txt [ 0.02570607  0.01768555 -0.03043755  0.01367529 -0.07054014  0.04976762\n",
      " -0.08658117  0.02570607  0.05778814 -0.03043755  0.04976762  0.0417471\n",
      "  0.04976762 -0.03845807 -0.04647859]\n",
      "motifs/motif_5_2.txt [ 0.01782586  0.0261746  -0.01000325  0.02339168 -0.0712273   0.05678662\n",
      " -0.07957603  0.01226004  0.05400371 -0.04061527  0.03730624  0.03174042\n",
      "  0.05400371 -0.03504945 -0.02391781]\n"
     ]
    }
   ],
   "source": [
    "for legend in range(6):\n",
    "    df = pd.read_csv('data/test/part_%s.csv' % str(legend))\n",
    "    \n",
    "    #extracting data\n",
    "    df_temp = df.drop(labels=['Ticker', 'index', 'Date', 'extremum'], axis=1)\n",
    "    key1 = -15 #the number of ticks we wish to observe\n",
    "    key2 = min([int(x) for x in df_temp.columns])\n",
    "    df_temp = df_temp.drop(labels=[str(x) for x in list(range(key2,key1))], axis=1) #drop all ticks but those we're observing\n",
    "    df_temp = df_temp.dropna(axis=0) #drop rows with nan\n",
    "    clustering_data_trended = df_temp.values.tolist() #convert resulting data to list\n",
    "    clustering_data = detrend(clustering_data_trended) #detrend resulting data\n",
    "    \n",
    "    #creating z-functions for everything\n",
    "    cdzo = [generate_z_vector_best(x,(key1//-3)) for x in clustering_data] \n",
    "    # cdzo = clustering_data_z_optimized\n",
    "    clustering_result = get_clustering(cdzo, 2, 1) # clustering\n",
    "    \n",
    "    cru = list(set(clustering_result)) # clustering_result_unique\n",
    "    \n",
    "    \n",
    "    for legend2 in range(3):\n",
    "        cluster = [] # choosing a cluster\n",
    "        lcn = max(cru, key=list(clustering_result).count) # largest cluster number\n",
    "        for i in range(len(clustering_result)):\n",
    "            if clustering_result[i] == lcn:\n",
    "                cluster.append(clustering_data[i])\n",
    "        cru.remove(lcn)\n",
    "                \n",
    "\n",
    "        sns.set(rc={'figure.figsize':(20,7)})\n",
    "        cluster_index = list(range(len(clustering_data[0])))\n",
    "        cluster_flat = np.array(cluster).flatten()\n",
    "        #visualization_index_flat = np.array(list(range(len(clustering_data[0])))*len(cluster)).flatten()\n",
    "\n",
    "\n",
    "        cf_max = max(cluster_flat)\n",
    "        cf_min = min(cluster_flat)\n",
    "        neighborhood = [] # it's a list that will contain pairs of points that will determine the acceptable range of motif\n",
    "        for i in cluster_index:\n",
    "            neighborhood.append(find_boundaries(cluster, cf_min, cf_max, i))\n",
    "        neighborhood = np.transpose(neighborhood)\n",
    "        motif2 = [(neighborhood[0][x]+neighborhood[1][x])/2 for x in list(range(len(neighborhood[1])))]\n",
    "        # motif is determined by the acceptable neighborhood and is basically its center\n",
    "\n",
    "\n",
    "        f = open('motifs/motif_%s_%s.txt' % (legend, legend2), 'w')\n",
    "        f.write(' '.join(str(x) for x in neighborhood[1]))\n",
    "        f.write('\\n')\n",
    "        f.write(' '.join(str(x) for x in motif2))\n",
    "        f.write('\\n')\n",
    "        f.write(' '.join(str(x) for x in neighborhood[0]))\n",
    "        f.close()\n",
    "        print('motifs/motif_%s_%s.txt' % (legend, legend2), neighborhood[1])\n"
   ]
  }
 ],
 "metadata": {
  "kernelspec": {
   "display_name": "Python 3",
   "language": "python",
   "name": "python3"
  },
  "language_info": {
   "codemirror_mode": {
    "name": "ipython",
    "version": 3
   },
   "file_extension": ".py",
   "mimetype": "text/x-python",
   "name": "python",
   "nbconvert_exporter": "python",
   "pygments_lexer": "ipython3",
   "version": "3.8.5"
  }
 },
 "nbformat": 4,
 "nbformat_minor": 4
}
