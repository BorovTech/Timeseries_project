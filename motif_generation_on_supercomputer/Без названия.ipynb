{
 "cells": [
  {
   "cell_type": "code",
   "execution_count": null,
   "id": "84987a3a",
   "metadata": {},
   "outputs": [],
   "source": [
    "from collections import defaultdict\n",
    "import numpy as np\n",
    "from itertools import product\n",
    "from scipy.special import gamma\n",
    "from scipy.spatial.distance import pdist, squareform, euclidean\n",
    "import pandas as pd\n",
    "import seaborn as sns\n",
    "import matplotlib.pyplot as plt\n",
    "from random import randint\n",
    "from sklearn.linear_model import LinearRegression\n",
    "import math\n",
    "from functions_for_clustering import *\n",
    "from sklearn.metrics import silhouette_score\n",
    "from sklearn.metrics import davies_bouldin_score\n",
    "from sklearn.metrics import pairwise_distances\n",
    "from sklearn import metrics\n",
    "import threading"
   ]
  },
  {
   "cell_type": "code",
   "execution_count": null,
   "id": "bce6ce39",
   "metadata": {},
   "outputs": [],
   "source": [
    "def make_z_vector_fixed(arr, pattern):\n",
    "    z_vector = []\n",
    "    for i in range(len(pattern)):\n",
    "        z_vector.append(arr[pattern[i]])\n",
    "    return z_vector"
   ]
  },
  {
   "cell_type": "code",
   "execution_count": null,
   "id": "2af0ebe1",
   "metadata": {},
   "outputs": [],
   "source": [
    "def motif_duckery(clustering_data, current_pattern, f):   \n",
    "    cdzo = [generate_z_vector_fixed(x,current_pattern) for x in clustering_data]\n",
    "    # cdzo = clustering_data_z_optimized\n",
    "    clustering_result = get_clustering(cdzo, 2, 1) # clustering\n",
    "    cru = list(set(clustering_result)) # clustering_result_unique\n",
    "    \n",
    "    for legend2 in len(cru):\n",
    "        cluster = [] # choosing a cluster\n",
    "        lcn = max(cru, key=list(clustering_result).count) # largest cluster number\n",
    "        for i in range(len(clustering_result)):\n",
    "            if clustering_result[i] == lcn:\n",
    "                cluster.append(clustering_data[i])\n",
    "        cru.remove(lcn)\n",
    "        motif = generate_motif(cluster)\n",
    "        f.write(motif)\n",
    "        f.write('\\n')"
   ]
  },
  {
   "cell_type": "code",
   "execution_count": 5,
   "id": "a83bb716",
   "metadata": {},
   "outputs": [
    {
     "name": "stdout",
     "output_type": "stream",
     "text": [
      "[[0, 4, 7, 9, 14], [0, 4, 10, 11, 14], [0, 5, 6, 8, 10], [0, 1, 6, 7, 14], [0, 1, 2, 4, 14], [0, 6, 7, 9, 12], [0, 5, 8, 10, 14], [6, 9, 12, 13, 14], [0, 5, 7, 10, 12], [0, 1, 7, 12, 14], [0, 6, 7, 10, 11], [2, 4, 6, 8, 12], [0, 5, 8, 9, 10], [4, 7, 9, 11, 13], [0, 1, 3, 7, 14], [1, 2, 5, 9, 10], [2, 3, 5, 6, 14], [2, 3, 4, 6, 12], [4, 5, 7, 12, 14], [2, 4, 5, 10, 14], [0, 7, 12, 13, 14], [2, 4, 5, 7, 8], [0, 6, 7, 10, 14], [0, 2, 7, 11, 14], [0, 2, 7, 9, 13], [0, 2, 4, 6, 11], [0, 2, 3, 6, 14], [2, 4, 7, 12, 14], [0, 3, 5, 7, 12], [0, 9, 11, 13, 14], [1, 2, 5, 11, 12], [1, 2, 6, 11, 12], [1, 3, 6, 8, 11], [1, 4, 10, 11, 14], [0, 3, 9, 11, 14], [2, 3, 5, 10, 12], [3, 4, 8, 10, 12], [2, 4, 9, 12, 14], [0, 3, 8, 11, 13], [2, 9, 10, 12, 14], [4, 5, 6, 9, 13], [1, 3, 8, 10, 11], [1, 5, 6, 7, 13], [1, 3, 6, 10, 11], [1, 6, 7, 8, 9], [4, 5, 6, 8, 14], [1, 3, 7, 8, 10], [3, 10, 12, 13, 14]]\n"
     ]
    }
   ],
   "source": [
    "patterns_for_supercomp=[]\n",
    "f = open(\"patterns/patterns_supercomp.txt\", \"r\")\n",
    "\n",
    "for line in f:\n",
    "    line = line[1 : -2]\n",
    "    temp = list(map(int, line.split(\", \")))\n",
    "    patterns_for_supercomp.append(temp)\n",
    "f.close()"
   ]
  },
  {
   "cell_type": "code",
   "execution_count": null,
   "id": "c871dd45",
   "metadata": {},
   "outputs": [],
   "source": [
    "clustering_data = []\n",
    "for legend in range(0,20):\n",
    "    df.temp = read_csv('data/train/part_%s.csv' % str(legend))\n",
    "    \n",
    "    #extracting data\n",
    "    df_temp = df.drop(labels=['Ticker', 'index', 'Date'], axis=1)\n",
    "    key1 = -14 #the number of ticks we wish to observe\n",
    "    key2 = min([int(x) for x in df_temp.columns])\n",
    "    df_temp = df_temp.drop(labels=[str(x) for x in list(range(key2,key1))], axis=1) #drop all ticks but those we're observing\n",
    "    df_temp = df_temp.dropna(axis=0) #drop rows with nan\n",
    "    clustering_data_trended = df_temp.values.tolist() #convert resulting data to list\n",
    "    clustering_data.append(detrend(clustering_data_trended)) #detrend resulting data\n",
    "    \n",
    "f = open('thamotifs.txt', 'w')\n",
    "        \n",
    "threads = [threading.Tread(target=motif_duckery, args=(clustering_data, x, f)) for x in patterns_for_supercomp[:24]]\n",
    "\n",
    "for i in threads:\n",
    "    i.start()\n",
    "    i.join()\n",
    "    \n",
    "f.close()\n",
    "    \n",
    "    "
   ]
  },
  {
   "cell_type": "code",
   "execution_count": 7,
   "id": "5c09ca7d",
   "metadata": {},
   "outputs": [
    {
     "data": {
      "text/plain": [
       "24"
      ]
     },
     "execution_count": 7,
     "metadata": {},
     "output_type": "execute_result"
    }
   ],
   "source": [
    "len(patterns_for_supercomp[:24])\n"
   ]
  }
 ],
 "metadata": {
  "kernelspec": {
   "display_name": "Python 3 (ipykernel)",
   "language": "python",
   "name": "python3"
  },
  "language_info": {
   "codemirror_mode": {
    "name": "ipython",
    "version": 3
   },
   "file_extension": ".py",
   "mimetype": "text/x-python",
   "name": "python",
   "nbconvert_exporter": "python",
   "pygments_lexer": "ipython3",
   "version": "3.9.7"
  }
 },
 "nbformat": 4,
 "nbformat_minor": 5
}
