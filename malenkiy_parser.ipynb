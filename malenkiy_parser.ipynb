{
 "cells": [
  {
   "cell_type": "code",
   "execution_count": 5,
   "id": "387c37cc",
   "metadata": {},
   "outputs": [],
   "source": [
    "def parse(pattern, file_name):\n",
    "    f = open(\"%s.txt\" % file_name)\n",
    "    pat = tuple(pattern)\n",
    "    pattern_motifs = {}\n",
    "    for line in f:\n",
    "        line = list(map(float, line.split(\", \")))\n",
    "        pattern_motifs[pat] = line\n",
    "    f.close()\n",
    "    return pattern_motifs"
   ]
  },
  {
   "cell_type": "code",
   "execution_count": 6,
   "id": "75e6cc8a",
   "metadata": {},
   "outputs": [
    {
     "data": {
      "text/plain": [
       "{(0, 4, 7, 9, 14): [-0.0021975746042120934,\n",
       "  -0.0006163205891735719,\n",
       "  -0.00252521306692062,\n",
       "  -0.0014374343474066495,\n",
       "  0.0016156434245724724,\n",
       "  0.001316900479476468,\n",
       "  -4.09108512949064e-05,\n",
       "  0.007648706739561608,\n",
       "  0.0029387800223376077,\n",
       "  0.001831589646610358,\n",
       "  0.0006682359639990855,\n",
       "  -0.004840108977317927,\n",
       "  -0.005023492062249376,\n",
       "  -0.0012259133514572285,\n",
       "  0.0018871115734751477]}"
      ]
     },
     "execution_count": 6,
     "metadata": {},
     "output_type": "execute_result"
    }
   ],
   "source": [
    "parse([0, 4, 7, 9, 14], \"thamotifs047914\")"
   ]
  },
  {
   "cell_type": "code",
   "execution_count": null,
   "id": "de8cb82e",
   "metadata": {},
   "outputs": [],
   "source": []
  }
 ],
 "metadata": {
  "kernelspec": {
   "display_name": "Python 3 (ipykernel)",
   "language": "python",
   "name": "python3"
  },
  "language_info": {
   "codemirror_mode": {
    "name": "ipython",
    "version": 3
   },
   "file_extension": ".py",
   "mimetype": "text/x-python",
   "name": "python",
   "nbconvert_exporter": "python",
   "pygments_lexer": "ipython3",
   "version": "3.9.7"
  }
 },
 "nbformat": 4,
 "nbformat_minor": 5
}
