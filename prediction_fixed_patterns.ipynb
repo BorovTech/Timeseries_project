{
 "cells": [
  {
   "cell_type": "code",
   "execution_count": 4,
   "id": "b5161aa3",
   "metadata": {},
   "outputs": [],
   "source": [
    "from tqdm import trange, tqdm\n",
    "from collections import defaultdict\n",
    "import numpy as np\n",
    "from itertools import product\n",
    "from scipy.special import gamma\n",
    "from scipy.spatial.distance import pdist, squareform, euclidean\n",
    "import pandas as pd\n",
    "import seaborn as sns\n",
    "import matplotlib.pyplot as plt\n",
    "from random import randint\n",
    "from sklearn.linear_model import LinearRegression\n",
    "import math\n",
    "from functions_for_clustering import *"
   ]
  },
  {
   "cell_type": "code",
   "execution_count": 1,
   "id": "a6e5a6ee",
   "metadata": {},
   "outputs": [],
   "source": [
    "PTS = 40\n",
    "WINDOW = 30\n",
    "STEPS = 5"
   ]
  },
  {
   "cell_type": "code",
   "execution_count": 3,
   "id": "6161143f",
   "metadata": {},
   "outputs": [],
   "source": [
    "def str_subseq(subseq):\n",
    "    if not subseq:\n",
    "        return '<None>'\n",
    "    return ','.join(map(str, subseq))\n",
    "\n",
    "\n",
    "def gen_sample_in_point_with_q(values, window, pattern, pos):\n",
    "    # наложить шаблон \n",
    "    if pos - window + 1 + pattern[0] >= 0:\n",
    "        vals = []\n",
    "        bad = values[pos][0] == None\n",
    "        for j in pattern:\n",
    "            val = values[pos - window + 1 + j]\n",
    "            if val[0] == None:\n",
    "                bad = True\n",
    "                break\n",
    "            vals.append(val)\n",
    "        if bad:\n",
    "            return None\n",
    "        vals.append(values[pos])\n",
    "        return vals\n",
    "    else:\n",
    "        return None"
   ]
  },
  {
   "cell_type": "code",
   "execution_count": null,
   "id": "9f13db4e",
   "metadata": {},
   "outputs": [],
   "source": [
    "def generate_predictions(centers, return_set_pred=False, real_mode='test', EPS=0.05, Q_VALUE=0.99):\n",
    "    #centers - словарь, какой ключ и значение хуй их пойми (судя по всему паттерн - ряд загенеренный по этому паттерну)\n",
    "    #patterns - лист таплов паттернов \n",
    "    #xs - наш ряд по которому мы предсказываем\n",
    "    \n",
    "    preds = {}\n",
    "    set_preds = {}\n",
    "\n",
    "    if real_mode == 'test':\n",
    "        end_point = val_end\n",
    "        init_point = test_init\n",
    "    else:\n",
    "        end_point = train_end\n",
    "        init_point = val_init\n",
    "\n",
    "    for start_point in tqdm(range(PTS)):\n",
    "        \n",
    "        # initialize empty\n",
    "        preds[start_point] = [None] * (start_point + 1)\n",
    "        if return_set_pred:\n",
    "            set_preds[start_point] = [None] * (start_point + 1)\n",
    "\n",
    "        # current window\n",
    "        wind = list(map(lambda x: (x, 1), xs[end_point + start_point : init_point + start_point]))\n",
    "\n",
    "        for step in range(1, STEPS + 1):\n",
    "            x_tests_for_point = {}\n",
    "            for pattern in patterns:\n",
    "                \n",
    "                key = str_subseq(pattern + (WINDOW - 1,)) \n",
    "                sample = gen_sample_in_point_with_q(np.concatenate([wind, [(0, 0)]]), WINDOW, pattern, len(wind))\n",
    "                if not sample:\n",
    "                    x_tests_for_point[key] = None\n",
    "                else:\n",
    "                    x_tests_for_point[key] = sample\n",
    "\n",
    "            chosen_centers = []\n",
    "            for pattern, centers_values in centers.items():\n",
    "                if not x_tests_for_point[pattern]:\n",
    "                    continue\n",
    "                vector = np.array(x_tests_for_point[pattern][:-1])[:, 0]\n",
    "                q_values = np.array(x_tests_for_point[pattern][:-1])[:, 1]\n",
    "\n",
    "                for center in centers_values:\n",
    "                    dist = euclidean(vector, center[:-1])\n",
    "                    if dist < EPS:\n",
    "                        weight_d = (EPS - dist) / EPS\n",
    "                        weight_q = np.mean(q_values) * Q_VALUE\n",
    "                        chosen_centers.append((pattern, center, weight_d, weight_q))\n",
    "\n",
    "            last_points = list(map(lambda center: (center[1][-1], center[2], center[3], center[0]), chosen_centers))\n",
    "            \n",
    "            # deamon predict\n",
    "#             result_point = deamon.predict(start_point, step, last_points)\n",
    "            #сюда поставить нормальный предикт!!!!!!!!!!!!!\n",
    "            preds[start_point].append(result_point)\n",
    "\n",
    "            if return_set_pred:\n",
    "                set_preds[start_point].append(last_points)\n",
    "\n",
    "            \n",
    "            if result_point:\n",
    "                q_value = np.mean(np.array(list(map(lambda center: center[2], chosen_centers))))\n",
    "            else:\n",
    "                q_value = None\n",
    "            \n",
    "            # move the window\n",
    "            wind = np.concatenate([wind[1:], [(result_point, q_value)]])\n",
    "\n",
    "#     deamon.predicted = True\n",
    "\n",
    "    if return_set_pred:\n",
    "        return preds, set_preds\n",
    "    return preds"
   ]
  },
  {
   "cell_type": "code",
   "execution_count": 5,
   "id": "38fb8e7a",
   "metadata": {},
   "outputs": [
    {
     "data": {
      "text/plain": [
       "245"
      ]
     },
     "execution_count": 5,
     "metadata": {},
     "output_type": "execute_result"
    },
    {
     "data": {
      "image/png": "[encoded data removed]",
      "text/plain": [
       "<Figure size 432x288 with 1 Axes>"
      ]
     },
     "metadata": {
      "needs_background": "light"
     },
     "output_type": "display_data"
    }
   ],
   "source": [
    "df = pd.read_csv('data/test/part_5.csv')\n",
    "df_pred = df.loc[df.index == 17]\n",
    "df_pred = df_pred.drop(labels=['Ticker', 'index', 'Date', 'extremum'], axis=1)\n",
    "df_pred = df_pred.dropna(axis=1)\n",
    "\n",
    "xs_temp = df_pred.values.tolist()\n",
    "xs = detrend(xs_temp)\n",
    "xs = list(np.array(xs).flatten())\n",
    "xs = xs[::-1]\n",
    "sns.lineplot(y=xs, x=list(range(len(xs))))\n",
    "len(xs)"
   ]
  },
  {
   "cell_type": "code",
   "execution_count": null,
   "id": "4f885469",
   "metadata": {},
   "outputs": [],
   "source": []
  }
 ],
 "metadata": {
  "kernelspec": {
   "display_name": "Python 3 (ipykernel)",
   "language": "python",
   "name": "python3"
  },
  "language_info": {
   "codemirror_mode": {
    "name": "ipython",
    "version": 3
   },
   "file_extension": ".py",
   "mimetype": "text/x-python",
   "name": "python",
   "nbconvert_exporter": "python",
   "pygments_lexer": "ipython3",
   "version": "3.9.7"
  }
 },
 "nbformat": 4,
 "nbformat_minor": 5
}
