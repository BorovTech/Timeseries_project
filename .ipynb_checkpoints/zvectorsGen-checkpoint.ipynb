{
 "cells": [
  {
   "cell_type": "code",
   "execution_count": 5,
   "metadata": {},
   "outputs": [],
   "source": [
    "import random as rd\n",
    "def hundredzvectors():\n",
    "        file = open(\"zvectors.txt\", \"w+\")\n",
    "        for i in range(100):\n",
    "            zvect = rd.sample(range(0,15),5)\n",
    "            zvect.sort()\n",
    "            file.write(str(zvect))\n",
    "            file.write(\"\\n\")\n",
    "        file.close\n",
    "hundredzvectors()      "
   ]
  },
  {
   "cell_type": "code",
   "execution_count": 3,
   "metadata": {},
   "outputs": [
    {
     "data": {
      "text/plain": [
       "[3, 10, 12, 13, 14]"
      ]
     },
     "execution_count": 3,
     "metadata": {},
     "output_type": "execute_result"
    }
   ],
   "source": [
    "patterns_for_supercomp=[]\n",
    "fi = open(\"patterns/patterns_supercomp.txt\", \"r\")\n",
    "for line in fi:\n",
    "    line = line[1 : -2]\n",
    "    temp = list(map(int, line.split(\", \")))\n",
    "    patterns_for_supercomp.append(temp)\n",
    "fi.close()"
   ]
  }
 ],
 "metadata": {
  "kernelspec": {
   "display_name": "Python 3",
   "language": "python",
   "name": "python3"
  },
  "language_info": {
   "codemirror_mode": {
    "name": "ipython",
    "version": 3
   },
   "file_extension": ".py",
   "mimetype": "text/x-python",
   "name": "python",
   "nbconvert_exporter": "python",
   "pygments_lexer": "ipython3",
   "version": "3.8.5"
  }
 },
 "nbformat": 4,
 "nbformat_minor": 5
}
