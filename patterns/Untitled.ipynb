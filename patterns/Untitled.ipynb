{
 "cells": [
  {
   "cell_type": "code",
   "execution_count": 11,
   "metadata": {},
   "outputs": [],
   "source": [
    "import itertools\n",
    "a=list(itertools.combinations(list(range(7)), 3))\n",
    "f = open('patterns_supercomp_7.txt', 'w')\n",
    "for i in a:\n",
    "    f.write(', '.join(map(str, i)))\n",
    "    f.write('\\n')\n",
    "f.close()\n",
    "\n"
   ]
  },
  {
   "cell_type": "code",
   "execution_count": 16,
   "metadata": {},
   "outputs": [
    {
     "data": {
      "text/plain": [
       "35"
      ]
     },
     "execution_count": 16,
     "metadata": {},
     "output_type": "execute_result"
    }
   ],
   "source": [
    "patterns_for_supercomp=[]\n",
    "fi = open(\"patterns_supercomp_7.txt\", \"r\")\n",
    "for line in fi:\n",
    "    temp = list(map(int, line.split(\", \")))\n",
    "    patterns_for_supercomp.append(temp)\n",
    "fi.close()\n",
    "len(patterns_for_supercomp)"
   ]
  }
 ],
 "metadata": {
  "kernelspec": {
   "display_name": "Python 3",
   "language": "python",
   "name": "python3"
  },
  "language_info": {
   "codemirror_mode": {
    "name": "ipython",
    "version": 3
   },
   "file_extension": ".py",
   "mimetype": "text/x-python",
   "name": "python",
   "nbconvert_exporter": "python",
   "pygments_lexer": "ipython3",
   "version": "3.8.5"
  }
 },
 "nbformat": 4,
 "nbformat_minor": 4
}
