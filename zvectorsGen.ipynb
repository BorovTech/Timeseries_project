{
 "cells": [
  {
   "cell_type": "code",
   "execution_count": 5,
   "id": "0484b8ee",
   "metadata": {},
   "outputs": [],
   "source": [
    "import random as rd\n",
    "def hundredzvectors():\n",
    "        file = open(\"zvectors.txt\", \"w+\")\n",
    "        for i in range(100):\n",
    "            zvect = rd.sample(range(0,15),5)\n",
    "            zvect.sort()\n",
    "            file.write(str(zvect))\n",
    "            file.write(\"\\n\")\n",
    "        file.close\n",
    "hundredzvectors()      "
   ]
  },
  {
   "cell_type": "code",
   "execution_count": null,
   "id": "5c98b64b",
   "metadata": {},
   "outputs": [],
   "source": []
  }
 ],
 "metadata": {
  "kernelspec": {
   "display_name": "Python 3 (ipykernel)",
   "language": "python",
   "name": "python3"
  },
  "language_info": {
   "codemirror_mode": {
    "name": "ipython",
    "version": 3
   },
   "file_extension": ".py",
   "mimetype": "text/x-python",
   "name": "python",
   "nbconvert_exporter": "python",
   "pygments_lexer": "ipython3",
   "version": "3.8.8"
  }
 },
 "nbformat": 4,
 "nbformat_minor": 5
}
